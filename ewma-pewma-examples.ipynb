{
 "cells": [
  {
   "cell_type": "markdown",
   "id": "681bf6bb-fd66-4103-a5d9-551a77c90499",
   "metadata": {},
   "source": [
    "# EWMA and PEWMA examples"
   ]
  },
  {
   "cell_type": "code",
   "execution_count": 1,
   "id": "57292510-a459-4a78-8867-2123af8f7910",
   "metadata": {},
   "outputs": [
    {
     "ename": "SyntaxError",
     "evalue": "invalid syntax (api.py, line 68)",
     "output_type": "error",
     "traceback": [
      "Traceback \u001b[0;36m(most recent call last)\u001b[0m:\n",
      "  File \u001b[1;32m~/.local/share/virtualenvs/tsanomaly-pp5KpPhQ/lib/python3.9/site-packages/IPython/core/interactiveshell.py:3340\u001b[0m in \u001b[1;35mrun_code\u001b[0m\n    exec(code_obj, self.user_global_ns, self.user_ns)\n",
      "  Input \u001b[1;32mIn [1]\u001b[0m in \u001b[1;35m<cell line: 4>\u001b[0m\n    import tsanomaly as ad\n",
      "\u001b[0;36m  File \u001b[0;32m~/git/demos/tsanomaly/tsanomaly/__init__.py:1\u001b[0;36m in \u001b[0;35m<module>\u001b[0;36m\u001b[0m\n\u001b[0;31m    from tsanomaly.api import (\u001b[0m\n",
      "\u001b[0;36m  File \u001b[0;32m~/git/demos/tsanomaly/tsanomaly/api.py:68\u001b[0;36m\u001b[0m\n\u001b[0;31m    else if sigma[t-1] == 0:\u001b[0m\n\u001b[0m         ^\u001b[0m\n\u001b[0;31mSyntaxError\u001b[0m\u001b[0;31m:\u001b[0m invalid syntax\n"
     ]
    }
   ],
   "source": [
    "import pandas as pd\n",
    "import matplotlib.pyplot as plt\n",
    "import matplotlib.patches as mpatches\n",
    "import tsanomaly as ad"
   ]
  },
  {
   "cell_type": "code",
   "execution_count": null,
   "id": "d8b46b48-3fe4-4f18-a044-70b88e2af3aa",
   "metadata": {},
   "outputs": [],
   "source": [
    "df = pd.read_csv(\"./data/DailyDelhiClimateTrain.csv\").set_index(\"date\")\n",
    "df.index = pd.to_datetime(df.index)\n",
    "df.head()"
   ]
  },
  {
   "cell_type": "markdown",
   "id": "5f338ea7-b2ea-490e-a9a9-9583a6c9395e",
   "metadata": {},
   "source": [
    "## EWMA\n",
    "\n",
    "The exponentially-weighted moving average $\\mu_t$ at time $t$ is given by\n",
    "\n",
    "$$ \\mu_t = \\alpha X_t + (1 - \\alpha) \\mu_{t-1} $$\n",
    "\n",
    "where $\\alpha \\in [0, 1]$ is a weight applied to the current time series value $X_t$.\n",
    "\n",
    "To identify anomalies, we estimate a moving standard deviation $\\sigma_t$. Then we define a band given by $\\mu \\pm m\\sigma_t$. Anomalies are values that fall outside the band."
   ]
  },
  {
   "cell_type": "code",
   "execution_count": null,
   "id": "077ce9e6-e561-4195-bad1-c79306a09073",
   "metadata": {},
   "outputs": [],
   "source": [
    "def plot_ewma(df, start, end):\n",
    "    nseries = df.shape[1]\n",
    "    fig, ax = plt.subplots(nrows=nseries, ncols=1, figsize=(12, 3*nseries), tight_layout=True)\n",
    "    for i, colname in enumerate(df.columns):\n",
    "        x = df.loc[start:end, colname]\n",
    "        result = ad.ewma(x, 0.2, 3.0)\n",
    "        ad.plot_anomalies(ax[i], result, colname)"
   ]
  },
  {
   "cell_type": "code",
   "execution_count": null,
   "id": "4696c8ba-a669-4937-ace7-a5170cff2baa",
   "metadata": {},
   "outputs": [],
   "source": [
    "#plot_ewma(df, \"2013-01-01\", \"2013-06-30\")"
   ]
  },
  {
   "cell_type": "code",
   "execution_count": null,
   "id": "14a90e9c-6fb8-485f-9c51-f9478b73dd8e",
   "metadata": {},
   "outputs": [],
   "source": [
    "plot_ewma(df, \"2013-07-01\", \"2013-12-31\")"
   ]
  },
  {
   "cell_type": "markdown",
   "id": "5ce5b547-c9c0-484e-8260-00c81d61adbb",
   "metadata": {},
   "source": [
    "## PEWMA "
   ]
  },
  {
   "cell_type": "code",
   "execution_count": null,
   "id": "2690ecb4-8d12-4589-b6c7-52820cd23a93",
   "metadata": {},
   "outputs": [],
   "source": [
    "def plot_pewma(df, start, end):\n",
    "    nseries = df.shape[1]\n",
    "    fig, ax = plt.subplots(nrows=nseries, ncols=1, figsize=(12, 3*nseries), tight_layout=True)\n",
    "    for i, colname in enumerate(df.columns):\n",
    "        x = df.loc[start:end, colname]\n",
    "        result = ad.pewma(x, 0.2, 0.8, 3.0, 10)\n",
    "        ad.plot_anomalies(ax[i], result, colname)"
   ]
  },
  {
   "cell_type": "code",
   "execution_count": null,
   "id": "30e80f82-a4b4-453e-bb16-aa26caeed2db",
   "metadata": {},
   "outputs": [],
   "source": [
    "#plot_pewma(df, \"2013-01-01\", \"2013-06-30\")"
   ]
  },
  {
   "cell_type": "code",
   "execution_count": null,
   "id": "1306316e-c848-40f4-b04c-0dd4c5e63f7d",
   "metadata": {},
   "outputs": [],
   "source": [
    "plot_pewma(df, \"2013-07-01\", \"2013-12-31\")"
   ]
  },
  {
   "cell_type": "markdown",
   "id": "930b15a5-9a9b-43e4-906d-a5fbfa0cfae4",
   "metadata": {},
   "source": [
    "## PEWMA vs EWMA"
   ]
  },
  {
   "cell_type": "code",
   "execution_count": null,
   "id": "89e06660-ebef-4613-a777-53ce1eb3c571",
   "metadata": {},
   "outputs": [],
   "source": [
    "def plot_one(ax, df, color):\n",
    "    anom = df.loc[df[\"anomaly\"], \"x\"]\n",
    "    ax.plot(df[\"upper\"], color=color, alpha=0.5, linestyle=\"--\")\n",
    "    ax.plot(df[\"lower\"], color=color, alpha=0.5, linestyle=\"--\")\n",
    "    ax.plot(df[\"mean\"], color=color, alpha=0.5, linestyle=\"--\")\n",
    "    ax.scatter(x=anom.index, y=anom.values, color=\"r\")\n",
    "    \n",
    "def plot_pewma_vs_ewma(df, start, end):\n",
    "    nseries = df.shape[1]\n",
    "    fig, ax = plt.subplots(nrows=nseries, ncols=1, figsize=(12, 3*nseries), tight_layout=True)\n",
    "    for i, colname in enumerate(df.columns):\n",
    "        x = df.loc[start:end, colname]\n",
    "        ewma_result = ad.ewma(x, 0.2, 3.0)\n",
    "        pewma_result = ad.pewma(x, 0.2, 0.8, 3.0, 5)\n",
    "        ax[i].set_title(colname)\n",
    "        ax[i].plot(x, color=\"k\", linestyle=\"-\")\n",
    "        plot_one(ax[i], ewma_result, color=\"blue\")\n",
    "        plot_one(ax[i], pewma_result, color=\"green\")\n",
    "        ax[i].legend(handles=[\n",
    "            mpatches.Patch(color=\"k\", label=\"Observed\"),\n",
    "            mpatches.Patch(color=\"blue\", alpha=0.5, label=\"EWMA\"),\n",
    "            mpatches.Patch(color=\"green\", alpha=0.5, label=\"PEWMA\"),\n",
    "            mpatches.Patch(color=\"r\", label=\"Anomaly\"),\n",
    "        ])"
   ]
  },
  {
   "cell_type": "code",
   "execution_count": null,
   "id": "63f5d8ce-baee-4d32-9c0c-d190ae06aa9d",
   "metadata": {},
   "outputs": [],
   "source": [
    "plot_pewma_vs_ewma(df, \"2013-07-01\", \"2013-12-31\")"
   ]
  },
  {
   "cell_type": "code",
   "execution_count": null,
   "id": "992479d7-91e8-486e-97b7-08b78729fbca",
   "metadata": {},
   "outputs": [],
   "source": []
  }
 ],
 "metadata": {
  "kernelspec": {
   "display_name": "Python 3 (ipykernel)",
   "language": "python",
   "name": "python3"
  },
  "language_info": {
   "codemirror_mode": {
    "name": "ipython",
    "version": 3
   },
   "file_extension": ".py",
   "mimetype": "text/x-python",
   "name": "python",
   "nbconvert_exporter": "python",
   "pygments_lexer": "ipython3",
   "version": "3.9.10"
  }
 },
 "nbformat": 4,
 "nbformat_minor": 5
}
